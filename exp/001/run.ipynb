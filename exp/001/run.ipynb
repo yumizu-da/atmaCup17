{
 "cells": [
  {
   "cell_type": "code",
   "execution_count": 1,
   "metadata": {},
   "outputs": [
    {
     "name": "stdout",
     "output_type": "stream",
     "text": [
      "lgb:\n",
      "  params:\n",
      "    objective: binary\n",
      "    metric: auc\n",
      "    verbose: -1\n",
      "    boosting_type: gbdt\n",
      "    learning_rate: 0.01\n",
      "    max_depth: 5\n",
      "    num_leaves: 31\n",
      "    min_data_in_leaf: 20\n",
      "    bagging_fraction: 0.8\n",
      "    bagging_freq: 1\n",
      "    feature_fraction: 0.8\n",
      "    lambda_l1: 0\n",
      "    lambda_l2: 1\n",
      "    seed: 42\n",
      "  early_stopping_rounds: 100\n",
      "  log_evaluation: 100\n",
      "  num_boost_round: 10000000\n",
      "exp_number: '001'\n",
      "run_name: base\n",
      "data:\n",
      "  data_root: ../../data\n",
      "  results_root: ../../results\n",
      "  train_path: ../../data/train.csv\n",
      "  clothing_path: ../../data/clothing_master.csv\n",
      "  test_path: ../../data/test.csv\n",
      "  sample_submission_path: ../../data/sample_submission.csv\n",
      "  results_dir: ../../results/001/base\n",
      "seed: 42\n",
      "n_splits: 5\n",
      "target: Recommended IND\n",
      "\n"
     ]
    }
   ],
   "source": [
    "import pprint\n",
    "import time\n",
    "from pathlib import Path\n",
    "\n",
    "import lightgbm as lgb\n",
    "import numpy as np\n",
    "import pandas as pd\n",
    "import seaborn as sns\n",
    "from hydra import compose, initialize\n",
    "from matplotlib import pyplot as plt\n",
    "from omegaconf import OmegaConf\n",
    "from sklearn.model_selection import StratifiedKFold\n",
    "\n",
    "from src.seed import seed_everything\n",
    "\n",
    "\n",
    "with initialize(config_path=\"config\", version_base=None):\n",
    "    cfg = compose(config_name=\"config\")\n",
    "    cfg.exp_number = Path().resolve().name\n",
    "\n",
    "print(OmegaConf.to_yaml(cfg, resolve=True))\n",
    "\n",
    "seed_everything(cfg.seed)\n"
   ]
  },
  {
   "cell_type": "markdown",
   "metadata": {},
   "source": [
    "### Import"
   ]
  },
  {
   "cell_type": "code",
   "execution_count": 2,
   "metadata": {},
   "outputs": [],
   "source": [
    "train_df = pd.read_csv(cfg.data.train_path)\n",
    "clothing_df = pd.read_csv(cfg.data.clothing_path)\n",
    "test_df = pd.read_csv(cfg.data.test_path)\n",
    "\n",
    "train_df = train_df.merge(clothing_df, how=\"left\", on=\"Clothing ID\")\n",
    "test_df = test_df.merge(clothing_df, how=\"left\", on=\"Clothing ID\")\n",
    "all_df = pd.concat([train_df, test_df])\n",
    "\n",
    "features = [\n",
    "    'Clothing ID',\n",
    "    'Age',\n",
    "    'Title',\n",
    "    'Review Text',\n",
    "    # 'Rating',\n",
    "    # 'Recommended IND',\n",
    "    'Positive Feedback Count',\n",
    "    'Division Name',\n",
    "    'Department Name',\n",
    "    'Class Name',\n",
    "]\n",
    "num_features = ['Age']\n",
    "cat_features = ['Clothing ID', 'Title', 'Review Text', 'Division Name', 'Department Name', 'Class Name']\n",
    "\n",
    "kf = StratifiedKFold(n_splits=5, shuffle=True, random_state=cfg.seed)\n"
   ]
  },
  {
   "cell_type": "markdown",
   "metadata": {},
   "source": [
    "### 特徴量加工"
   ]
  },
  {
   "cell_type": "code",
   "execution_count": 3,
   "metadata": {},
   "outputs": [],
   "source": [
    "# CountEncoding. all_dfで集計していることに注意\n",
    "# for col in cat_features:\n",
    "#     count_map = all_df[col].value_counts()\n",
    "#     train_df[f\"count_{col}\"] = train_df[col].map(count_map)\n",
    "#     test_df[f\"count_{col}\"] = test_df[col].map(count_map)\n",
    "\n",
    "# GroupbyEncoding. all_dfで集計していることに注意\n",
    "# methods = [\"mean\", \"std\", \"min\", \"max\", \"median\"]\n",
    "# for grp_col in cat_features:\n",
    "#     grp_df = all_df.groupby(grp_col)[num_features].agg(methods).reset_index()\n",
    "#     grp_df.columns = [grp_col] + [f\"grpby_{grp_col}_{col}_{m}\" for m in methods for col in num_features]\n",
    "#     train_df = train_df.merge(grp_df, how=\"left\", on=grp_col)\n",
    "#     test_df = test_df.merge(grp_df, how=\"left\", on=grp_col)\n",
    "\n",
    "# TargetEncoding. 一応リークに気を付けているが要注意\n",
    "# for col in cat_features:\n",
    "#     for tr_idx, va_idx in kf.split(train_df, train_df[cfg.target], groups=groups):\n",
    "#         group = train_df.iloc[tr_idx].groupby(col)[cfg.target].mean().to_dict()\n",
    "#         train_df.loc[va_idx, f\"target_{col}\"] = train_df.loc[va_idx, col].map(group)\n",
    "#     group = train_df.groupby(col)[cfg.target].mean().to_dict()\n",
    "#     test_df[f\"target_{col}\"] = test_df[col].map(group)\n",
    "\n",
    "# Ratingがtestにはない→testのRatingはtrainのRatingの平均値で埋める\n",
    "_map = train_df.groupby(\"Clothing ID\")[\"Rating\"].mean().to_dict()\n",
    "test_df[\"Rating\"] = test_df[\"Clothing ID\"].map(_map)\n",
    "\n",
    "# CategoryEncoding\n",
    "for col in cat_features:\n",
    "    train_df[col] = train_df[col].astype(\"category\")\n",
    "    test_df[col] = test_df[col].astype(\"category\")\n"
   ]
  },
  {
   "cell_type": "markdown",
   "metadata": {},
   "source": [
    "### 学習"
   ]
  },
  {
   "cell_type": "code",
   "execution_count": 4,
   "metadata": {},
   "outputs": [
    {
     "name": "stdout",
     "output_type": "stream",
     "text": [
      "Training until validation scores don't improve for 100 rounds\n",
      "[100]\tcv_agg's valid auc: 0.972475 + 0.00314695\n",
      "[200]\tcv_agg's valid auc: 0.972869 + 0.00283848\n",
      "[300]\tcv_agg's valid auc: 0.973206 + 0.00272592\n",
      "[400]\tcv_agg's valid auc: 0.973566 + 0.00276507\n",
      "[500]\tcv_agg's valid auc: 0.973516 + 0.00264159\n",
      "Early stopping, best iteration is:\n",
      "[423]\tcv_agg's valid auc: 0.973576 + 0.00276215\n"
     ]
    },
    {
     "data": {
      "text/plain": [
       "<lightgbm.engine.CVBooster at 0x7f2eff7ed8e0>"
      ]
     },
     "execution_count": 4,
     "metadata": {},
     "output_type": "execute_result"
    }
   ],
   "source": [
    "x_train = train_df.drop([cfg.target], axis=1)\n",
    "y_train = train_df[cfg.target]\n",
    "\n",
    "# 実験結果格納用のディレクトリを作成\n",
    "cfg.run_name = time.strftime(\"%Y%m%d_%H%M%S\")\n",
    "Path(cfg.data.results_dir).mkdir(exist_ok=True, parents=True)\n",
    "\n",
    "# 学習設定\n",
    "lgb_data = lgb.Dataset(\n",
    "    x_train,\n",
    "    label=y_train,\n",
    "    categorical_feature=x_train.select_dtypes(include=[\"category\"]).columns.tolist(),\n",
    "    free_raw_data=True,\n",
    ")\n",
    "callbacks=[\n",
    "    lgb.early_stopping(stopping_rounds=cfg.lgb.early_stopping_rounds),\n",
    "    lgb.log_evaluation(cfg.lgb.log_evaluation),\n",
    "]\n",
    "\n",
    "# 学習\n",
    "cv_results = lgb.cv(\n",
    "    dict(cfg.lgb.params),\n",
    "    lgb_data,\n",
    "    folds=kf.split(x_train, y_train),\n",
    "    num_boost_round=cfg.lgb.num_boost_round,\n",
    "    callbacks=callbacks,\n",
    "    return_cvbooster=True,\n",
    "    stratified=False,\n",
    "    seed=cfg.seed,\n",
    ")\n",
    "\n",
    "# 学習モデル保存\n",
    "cvbooster = cv_results[\"cvbooster\"]\n",
    "cvbooster.save_model(f\"{cfg.data.results_dir}/model.pkl\")\n"
   ]
  },
  {
   "cell_type": "markdown",
   "metadata": {},
   "source": [
    "### log"
   ]
  },
  {
   "cell_type": "code",
   "execution_count": 5,
   "metadata": {},
   "outputs": [],
   "source": [
    "best_iteration = cvbooster.best_iteration\n",
    "best_score = cv_results[\"valid auc-mean\"][best_iteration - 1]\n",
    "best_score_stdv = cv_results[\"valid auc-stdv\"][best_iteration - 1]\n",
    "\n",
    "with open(f\"{cfg.data.results_dir}/log.txt\", \"w\") as log_file:\n",
    "    log_file.write(\"====== CV Score ======\\n\")\n",
    "    log_file.write(f\"best_iteration: {best_iteration}\\n\")\n",
    "    log_file.write(f\"best_score: {best_score}\\n\")\n",
    "    log_file.write(f\"best_score_stdv: {best_score_stdv}\\n\")\n",
    "\n",
    "    log_file.write(\"\\n====== params ======\\n\")\n",
    "    log_file.write(OmegaConf.to_yaml(cfg, resolve=True))\n",
    "\n",
    "    log_file.write(\"\\n====== feature name ======\\n\")\n",
    "    log_file.write(pprint.pformat(cvbooster.feature_name()[0]))\n"
   ]
  },
  {
   "cell_type": "markdown",
   "metadata": {},
   "source": [
    "### Feature Importance"
   ]
  },
  {
   "cell_type": "code",
   "execution_count": 6,
   "metadata": {},
   "outputs": [
    {
     "data": {
      "image/png": "[encoded data removed]",
      "text/plain": [
       "<Figure size 1200x300 with 1 Axes>"
      ]
     },
     "metadata": {},
     "output_type": "display_data"
    }
   ],
   "source": [
    "# 学習済みモデルから特徴量の重要度を取り出す\n",
    "raw_importances = cvbooster.feature_importance(importance_type=\"gain\")\n",
    "importance_df = pd.DataFrame(data=raw_importances, columns=cvbooster.feature_name()[0])\n",
    "\n",
    "# 平均値でソートする\n",
    "sorted_indices = importance_df.mean(axis=0).sort_values(ascending=False).index\n",
    "sorted_importance_df = importance_df.loc[:, sorted_indices]\n",
    "\n",
    "# 上位をプロット -> 保存\n",
    "plot_cols = sorted_importance_df.columns[:50]\n",
    "fig, ax = plt.subplots(figsize=(12, max(3, len(plot_cols) * 0.15)))\n",
    "sns.boxplot(data=sorted_importance_df[plot_cols], orient=\"h\", ax=ax)\n",
    "ax.grid()\n",
    "ax.set_title(\"feature importance\")\n",
    "fig.tight_layout()\n",
    "plt.show()\n",
    "fig.savefig(f\"{cfg.data.results_dir}/feature_importance.png\")\n"
   ]
  },
  {
   "cell_type": "markdown",
   "metadata": {},
   "source": [
    "### oof"
   ]
  },
  {
   "cell_type": "code",
   "execution_count": 7,
   "metadata": {},
   "outputs": [
    {
     "data": {
      "image/png": "[encoded data removed]",
      "text/plain": [
       "<Figure size 1200x500 with 1 Axes>"
      ]
     },
     "metadata": {},
     "output_type": "display_data"
    }
   ],
   "source": [
    "oof = np.zeros(len(x_train))\n",
    "\n",
    "# 各fold毎に推論してoofを作成\n",
    "for i, (_, valid_idx) in enumerate(kf.split(x_train, y_train)):\n",
    "    x_valid = x_train.iloc[valid_idx]\n",
    "    model = cvbooster.boosters[i]\n",
    "    y_pred = model.predict(x_valid, num_iteration=cvbooster.best_iteration)\n",
    "    oof[valid_idx] = y_pred\n",
    "\n",
    "oof_df = pd.DataFrame({\"oof\": oof})\n",
    "oof_df.to_csv(f\"{cfg.data.results_dir}/oof.csv\", index=False)\n",
    "\n",
    "fig, ax = plt.subplots(figsize=(12, 5))\n",
    "sns.histplot(y_train, bins=50)\n",
    "sns.histplot(oof, bins=50)\n",
    "plt.legend([\"true\", \"oof\"])\n",
    "plt.show()\n",
    "fig.savefig(f\"{cfg.data.results_dir}/oof_hist.png\")\n"
   ]
  },
  {
   "cell_type": "markdown",
   "metadata": {},
   "source": [
    "### Submission"
   ]
  },
  {
   "cell_type": "code",
   "execution_count": 8,
   "metadata": {},
   "outputs": [
    {
     "data": {
      "text/html": [
       "<div>\n",
       "<style scoped>\n",
       "    .dataframe tbody tr th:only-of-type {\n",
       "        vertical-align: middle;\n",
       "    }\n",
       "\n",
       "    .dataframe tbody tr th {\n",
       "        vertical-align: top;\n",
       "    }\n",
       "\n",
       "    .dataframe thead th {\n",
       "        text-align: right;\n",
       "    }\n",
       "</style>\n",
       "<table border=\"1\" class=\"dataframe\">\n",
       "  <thead>\n",
       "    <tr style=\"text-align: right;\">\n",
       "      <th></th>\n",
       "      <th>target</th>\n",
       "    </tr>\n",
       "  </thead>\n",
       "  <tbody>\n",
       "    <tr>\n",
       "      <th>0</th>\n",
       "      <td>0.060364</td>\n",
       "    </tr>\n",
       "    <tr>\n",
       "      <th>1</th>\n",
       "      <td>0.065441</td>\n",
       "    </tr>\n",
       "    <tr>\n",
       "      <th>2</th>\n",
       "      <td>0.059946</td>\n",
       "    </tr>\n",
       "    <tr>\n",
       "      <th>3</th>\n",
       "      <td>0.993742</td>\n",
       "    </tr>\n",
       "    <tr>\n",
       "      <th>4</th>\n",
       "      <td>0.060282</td>\n",
       "    </tr>\n",
       "  </tbody>\n",
       "</table>\n",
       "</div>"
      ],
      "text/plain": [
       "     target\n",
       "0  0.060364\n",
       "1  0.065441\n",
       "2  0.059946\n",
       "3  0.993742\n",
       "4  0.060282"
      ]
     },
     "execution_count": 8,
     "metadata": {},
     "output_type": "execute_result"
    }
   ],
   "source": [
    "# 推論\n",
    "y_preds = cvbooster.predict(test_df, num_iteration=cvbooster.best_iteration)\n",
    "y_pred = np.mean(y_preds, axis=0)\n",
    "\n",
    "# 提出用ファイル作成\n",
    "sub_df = pd.read_csv(cfg.data.sample_submission_path)\n",
    "sub_df[\"target\"] = y_pred\n",
    "sub_df.to_csv(f\"{cfg.data.results_dir}/{cfg.run_name}_submission.csv\", index=False)\n",
    "sub_df.head()\n"
   ]
  }
 ],
 "metadata": {
  "kernelspec": {
   "display_name": ".venv",
   "language": "python",
   "name": "python3"
  },
  "language_info": {
   "codemirror_mode": {
    "name": "ipython",
    "version": 3
   },
   "file_extension": ".py",
   "mimetype": "text/x-python",
   "name": "python",
   "nbconvert_exporter": "python",
   "pygments_lexer": "ipython3",
   "version": "3.12.3"
  }
 },
 "nbformat": 4,
 "nbformat_minor": 2
}
