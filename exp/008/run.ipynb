{
 "cells": [
  {
   "cell_type": "code",
   "execution_count": 5,
   "metadata": {},
   "outputs": [
    {
     "name": "stdout",
     "output_type": "stream",
     "text": [
      "0.5002058248430585 0.49979417515694147\n"
     ]
    }
   ],
   "source": [
    "import pandas as pd\n",
    "\n",
    "sub_df1 = pd.read_csv('../../data/20240830_164022_submission.csv')\n",
    "sub_df2 = pd.read_csv('../../data/20240830_165720_submission.csv')\n",
    "\n",
    "# 加重平均\n",
    "score1 = 0.9721\n",
    "score2 = 0.9713\n",
    "\n",
    "weight1 = score1 / (score1 + score2)\n",
    "weight2 = score2 / (score1 + score2)\n",
    "\n",
    "print(weight1, weight2)\n",
    "\n",
    "pred = sub_df1['target'] * weight1 + sub_df2['target'] * weight2\n",
    "sub_df1['target'] = pred\n",
    "\n",
    "sub_df1.to_csv('../../results/008/merge_20240830_164022+20240830_165720.csv', index=False)\n"
   ]
  },
  {
   "cell_type": "markdown",
   "metadata": {},
   "source": [
    "### Import"
   ]
  }
 ],
 "metadata": {
  "kernelspec": {
   "display_name": ".venv",
   "language": "python",
   "name": "python3"
  },
  "language_info": {
   "codemirror_mode": {
    "name": "ipython",
    "version": 3
   },
   "file_extension": ".py",
   "mimetype": "text/x-python",
   "name": "python",
   "nbconvert_exporter": "python",
   "pygments_lexer": "ipython3",
   "version": "3.12.2"
  }
 },
 "nbformat": 4,
 "nbformat_minor": 2
}
