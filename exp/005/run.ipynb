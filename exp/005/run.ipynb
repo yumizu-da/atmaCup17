{
 "cells": [
  {
   "cell_type": "code",
   "execution_count": 1,
   "metadata": {},
   "outputs": [
    {
     "name": "stdout",
     "output_type": "stream",
     "text": [
      "lgb:\n",
      "  params:\n",
      "    objective: binary\n",
      "    metric: auc\n",
      "    verbose: -1\n",
      "    boosting_type: gbdt\n",
      "    learning_rate: 0.01\n",
      "    max_depth: 5\n",
      "    num_leaves: 31\n",
      "    min_data_in_leaf: 50\n",
      "    bagging_fraction: 0.8\n",
      "    bagging_freq: 1\n",
      "    feature_fraction: 0.8\n",
      "    lambda_l1: 0\n",
      "    lambda_l2: 1\n",
      "    seed: 42\n",
      "  early_stopping_rounds: 100\n",
      "  log_evaluation: 100\n",
      "  num_boost_round: 10000000\n",
      "bert:\n",
      "  params:\n",
      "    model_path: microsoft/deberta-v3-large\n",
      "    metric: auc\n",
      "    target_col_class_num: 2\n",
      "    max_length: 192\n",
      "    fp16: true\n",
      "    learning_rate: 2.0e-05\n",
      "    epochs: 2\n",
      "    per_device_train_batch_size: 8\n",
      "    per_device_eval_batch_size: 32\n",
      "    steps: 50\n",
      "    lr_scheduler_type: linear\n",
      "    weight_decay: 0.01\n",
      "exp_number: '005'\n",
      "run_name: base\n",
      "data:\n",
      "  data_root: ../../data\n",
      "  results_root: ../../results\n",
      "  train_path: ../../data/train.csv\n",
      "  clothing_path: ../../data/clothing_master.csv\n",
      "  test_path: ../../data/test.csv\n",
      "  sample_submission_path: ../../data/sample_submission.csv\n",
      "  results_dir: ../../results/005/base\n",
      "seed: 42\n",
      "n_splits: 5\n",
      "target: Recommended IND\n",
      "\n",
      "cuda\n"
     ]
    }
   ],
   "source": [
    "import time\n",
    "import warnings\n",
    "from pathlib import Path\n",
    "\n",
    "import numpy as np\n",
    "import pandas as pd\n",
    "import torch\n",
    "from datasets import Dataset\n",
    "from hydra import compose, initialize\n",
    "from omegaconf import OmegaConf\n",
    "from sklearn.metrics import roc_auc_score\n",
    "from sklearn.model_selection import StratifiedKFold\n",
    "from src.seed import seed_everything\n",
    "from transformers import (\n",
    "    AutoConfig,\n",
    "    AutoModelForSequenceClassification,\n",
    "    AutoTokenizer,\n",
    "    DataCollatorWithPadding,\n",
    "    Trainer,\n",
    "    TrainingArguments,\n",
    ")\n",
    "\n",
    "warnings.filterwarnings(\"ignore\")\n",
    "with initialize(config_path=\"config\", version_base=None):\n",
    "    cfg = compose(config_name=\"config\")\n",
    "    cfg.exp_number = Path().resolve().name\n",
    "\n",
    "print(OmegaConf.to_yaml(cfg, resolve=True))\n",
    "\n",
    "seed_everything(cfg.seed)\n",
    "device = torch.device(\"cuda\" if torch.cuda.is_available() else \"cpu\")\n",
    "print(device)\n"
   ]
  },
  {
   "cell_type": "markdown",
   "metadata": {},
   "source": [
    "### Import"
   ]
  },
  {
   "cell_type": "code",
   "execution_count": 2,
   "metadata": {},
   "outputs": [],
   "source": [
    "debug = False\n",
    "\n",
    "train_df = pd.read_csv(cfg.data.train_path)\n",
    "clothing_df = pd.read_csv(cfg.data.clothing_path)\n",
    "test_df = pd.read_csv(cfg.data.test_path)\n",
    "\n",
    "if debug:\n",
    "    train_df = train_df.sample(500)\n",
    "\n",
    "def preprocess(df):\n",
    "    # df[\"prompt\"] = \"I am \" + df[\"Age\"].map(str) + \" years old\" + \" [SEP] \" + \"this review has \" + df[\"Positive Feedback Count\"].map(str)+ \" positive feedback by user\" + \" [SEP] \" + \"TITLE: \" + df[\"Title\"].fillna(\"none\") + \" [SEP] \" + \"REVIEW: \" + df[\"Review Text\"].fillna(\"none\")\n",
    "    # df[\"prompt\"] = \"This review has \" + df[\"Positive Feedback Count\"].map(str)+ \" positive feedback by user\" + \" [SEP] \" + \"TITLE: \" + df[\"Title\"].fillna(\"none\") + \" [SEP] \" + \"REVIEW: \" + df[\"Review Text\"].fillna(\"none\")\n",
    "    df[\"prompt\"] = \"TITLE: \" + df[\"Title\"].fillna(\"none\") + \" [SEP] \" + \"REVIEW: \" + df[\"Review Text\"].fillna(\"none\")\n",
    "    return df\n",
    "\n",
    "train_df = preprocess(train_df)\n",
    "test_df = preprocess(test_df)\n",
    "train_df[\"labels\"] = train_df[cfg.target].astype(np.int8)\n",
    "\n",
    "kf = StratifiedKFold(n_splits=5, shuffle=True, random_state=cfg.seed)\n"
   ]
  },
  {
   "cell_type": "markdown",
   "metadata": {},
   "source": [
    "### 計算が途中でとまっていたため、以下のログにはfold=4の分のみとなっています"
   ]
  },
  {
   "cell_type": "code",
   "execution_count": 4,
   "metadata": {},
   "outputs": [
    {
     "name": "stderr",
     "output_type": "stream",
     "text": [
      "Some weights of DebertaV2ForSequenceClassification were not initialized from the model checkpoint at microsoft/deberta-v3-large and are newly initialized: ['classifier.bias', 'classifier.weight', 'pooler.dense.bias', 'pooler.dense.weight']\n",
      "You should probably TRAIN this model on a down-stream task to be able to use it for predictions and inference.\n"
     ]
    },
    {
     "data": {
      "application/vnd.jupyter.widget-view+json": {
       "model_id": "90737939b7d3491ebaeda6bcadcf2199",
       "version_major": 2,
       "version_minor": 0
      },
      "text/plain": [
       "Map:   0%|          | 0/8000 [00:00<?, ? examples/s]"
      ]
     },
     "metadata": {},
     "output_type": "display_data"
    },
    {
     "data": {
      "application/vnd.jupyter.widget-view+json": {
       "model_id": "240d5ffcff064496a90866314cb6bdcc",
       "version_major": 2,
       "version_minor": 0
      },
      "text/plain": [
       "Map:   0%|          | 0/2000 [00:00<?, ? examples/s]"
      ]
     },
     "metadata": {},
     "output_type": "display_data"
    },
    {
     "data": {
      "text/html": [
       "\n",
       "    <div>\n",
       "      \n",
       "      <progress value='500' max='500' style='width:300px; height:20px; vertical-align: middle;'></progress>\n",
       "      [500/500 17:01, Epoch 2/2]\n",
       "    </div>\n",
       "    <table border=\"1\" class=\"dataframe\">\n",
       "  <thead>\n",
       " <tr style=\"text-align: left;\">\n",
       "      <th>Step</th>\n",
       "      <th>Training Loss</th>\n",
       "      <th>Validation Loss</th>\n",
       "      <th>Auc</th>\n",
       "    </tr>\n",
       "  </thead>\n",
       "  <tbody>\n",
       "    <tr>\n",
       "      <td>50</td>\n",
       "      <td>0.451200</td>\n",
       "      <td>0.372083</td>\n",
       "      <td>0.861108</td>\n",
       "    </tr>\n",
       "    <tr>\n",
       "      <td>100</td>\n",
       "      <td>0.293300</td>\n",
       "      <td>0.207047</td>\n",
       "      <td>0.961850</td>\n",
       "    </tr>\n",
       "    <tr>\n",
       "      <td>150</td>\n",
       "      <td>0.230500</td>\n",
       "      <td>0.185909</td>\n",
       "      <td>0.965730</td>\n",
       "    </tr>\n",
       "    <tr>\n",
       "      <td>200</td>\n",
       "      <td>0.203300</td>\n",
       "      <td>0.212819</td>\n",
       "      <td>0.968333</td>\n",
       "    </tr>\n",
       "    <tr>\n",
       "      <td>250</td>\n",
       "      <td>0.198600</td>\n",
       "      <td>0.186229</td>\n",
       "      <td>0.968615</td>\n",
       "    </tr>\n",
       "    <tr>\n",
       "      <td>300</td>\n",
       "      <td>0.154800</td>\n",
       "      <td>0.200211</td>\n",
       "      <td>0.969852</td>\n",
       "    </tr>\n",
       "    <tr>\n",
       "      <td>350</td>\n",
       "      <td>0.146100</td>\n",
       "      <td>0.186758</td>\n",
       "      <td>0.972955</td>\n",
       "    </tr>\n",
       "    <tr>\n",
       "      <td>400</td>\n",
       "      <td>0.145600</td>\n",
       "      <td>0.176443</td>\n",
       "      <td>0.972136</td>\n",
       "    </tr>\n",
       "    <tr>\n",
       "      <td>450</td>\n",
       "      <td>0.150100</td>\n",
       "      <td>0.174053</td>\n",
       "      <td>0.971386</td>\n",
       "    </tr>\n",
       "    <tr>\n",
       "      <td>500</td>\n",
       "      <td>0.146000</td>\n",
       "      <td>0.173152</td>\n",
       "      <td>0.971642</td>\n",
       "    </tr>\n",
       "  </tbody>\n",
       "</table><p>"
      ],
      "text/plain": [
       "<IPython.core.display.HTML object>"
      ]
     },
     "metadata": {},
     "output_type": "display_data"
    },
    {
     "data": {
      "text/html": [],
      "text/plain": [
       "<IPython.core.display.HTML object>"
      ]
     },
     "metadata": {},
     "output_type": "display_data"
    }
   ],
   "source": [
    "def compute_metrics(p):\n",
    "    preds, labels = p\n",
    "    preds = torch.softmax(torch.tensor(preds), dim = 1).numpy()\n",
    "    score = roc_auc_score(labels, preds[:, 1])\n",
    "    return {'auc': score}\n",
    "\n",
    "# 実験結果格納用のディレクトリを作成\n",
    "cfg.run_name = time.strftime(\"%Y%m%d_%H%M%S\")\n",
    "Path(cfg.data.results_dir).mkdir(exist_ok=True, parents=True)\n",
    "\n",
    "y_train = train_df[cfg.target]\n",
    "oof = np.zeros(len(train_df))\n",
    "\n",
    "\n",
    "for fold, (train_index, valid_index) in enumerate(kf.split(train_df, y_train)):\n",
    "\n",
    "    ds_train = Dataset.from_pandas(train_df.iloc[train_index][['prompt', 'labels']].copy())\n",
    "    ds_eval = Dataset.from_pandas(train_df.iloc[valid_index][['prompt', 'labels']].copy())\n",
    "\n",
    "    tokenizer = AutoTokenizer.from_pretrained(cfg.bert.params.model_path)\n",
    "    config = AutoConfig.from_pretrained(cfg.bert.params.model_path)\n",
    "    model = AutoModelForSequenceClassification.from_pretrained(cfg.bert.params.model_path, config=config)\n",
    "\n",
    "    def tokenize(sample):\n",
    "        return tokenizer(sample['prompt'], max_length=cfg.bert.params.max_length, truncation=True)\n",
    "\n",
    "    ds_train = ds_train.map(tokenize).remove_columns(['prompt', '__index_level_0__'])\n",
    "    ds_eval = ds_eval.map(tokenize).remove_columns(['prompt', '__index_level_0__'])\n",
    "\n",
    "    output_dir = f\"{cfg.data.results_dir}/fold{fold}\"\n",
    "\n",
    "    train_args = TrainingArguments(\n",
    "        output_dir=output_dir,\n",
    "        fp16=cfg.bert.params.fp16,\n",
    "        learning_rate=cfg.bert.params.learning_rate,\n",
    "        num_train_epochs=cfg.bert.params.epochs,\n",
    "        per_device_train_batch_size=cfg.bert.params.per_device_train_batch_size,\n",
    "        per_device_eval_batch_size=cfg.bert.params.per_device_eval_batch_size,\n",
    "        gradient_accumulation_steps=4,\n",
    "        report_to=\"none\",\n",
    "        evaluation_strategy=\"steps\",\n",
    "        do_eval=True,\n",
    "        eval_steps=cfg.bert.params.steps,\n",
    "        save_total_limit=1,\n",
    "        save_strategy=\"steps\",\n",
    "        save_steps=cfg.bert.params.steps,\n",
    "        logging_steps=cfg.bert.params.steps,\n",
    "        load_best_model_at_end=True,\n",
    "        lr_scheduler_type=cfg.bert.params.lr_scheduler_type,\n",
    "        metric_for_best_model=cfg.bert.params.metric,\n",
    "        greater_is_better=True,\n",
    "        warmup_ratio=0.1,\n",
    "        weight_decay=cfg.bert.params.weight_decay,\n",
    "        save_safetensors=True,\n",
    "        seed=cfg.seed,\n",
    "        data_seed=cfg.seed,\n",
    "    )\n",
    "\n",
    "    trainer = Trainer(\n",
    "        model=model,\n",
    "        args=train_args,\n",
    "        train_dataset=ds_train,\n",
    "        eval_dataset=ds_eval,\n",
    "        data_collator=DataCollatorWithPadding(tokenizer),\n",
    "        tokenizer=tokenizer,\n",
    "        compute_metrics=compute_metrics,\n",
    "    )\n",
    "\n",
    "\n",
    "    trainer.train()\n",
    "\n",
    "    final_output_dir = f\"{cfg.data.results_dir}/fold{fold}/final\"\n",
    "    trainer.save_model(final_output_dir)\n",
    "    tokenizer.save_pretrained(final_output_dir)\n",
    "\n",
    "    pred = torch.softmax(torch.tensor(trainer.predict(ds_eval).predictions), dim=1).numpy()\n",
    "    oof[valid_index] = pred[:, 1]\n"
   ]
  },
  {
   "cell_type": "markdown",
   "metadata": {},
   "source": [
    "### oof"
   ]
  },
  {
   "cell_type": "code",
   "execution_count": null,
   "metadata": {},
   "outputs": [],
   "source": [
    "# import seaborn as sns\n",
    "# from matplotlib import pyplot as plt\n",
    "\n",
    "# oof_df = pd.DataFrame({\"oof\": oof})\n",
    "# oof_df.to_csv(f\"{cfg.data.results_dir}/oof.csv\", index=False)\n",
    "\n",
    "# best_score = roc_auc_score(y_train, oof)\n",
    "# with open(f\"{cfg.data.results_dir}/log.txt\", \"w\") as log_file:\n",
    "#     log_file.write(\"====== CV Score ======\\n\")\n",
    "#     log_file.write(f\"best_score: {best_score}\\n\")\n",
    "#     log_file.write(\"\\n====== params ======\\n\")\n",
    "#     log_file.write(OmegaConf.to_yaml(cfg, resolve=True))\n",
    "\n",
    "# fig, ax = plt.subplots(figsize=(12, 5))\n",
    "# sns.histplot(y_train, bins=50)\n",
    "# sns.histplot(oof, bins=50)\n",
    "# plt.legend([\"true\", \"oof\"])\n",
    "# plt.show()\n",
    "# fig.savefig(f\"{cfg.data.results_dir}/oof_hist.png\")\n"
   ]
  },
  {
   "cell_type": "markdown",
   "metadata": {},
   "source": [
    "### SUbmission"
   ]
  },
  {
   "cell_type": "code",
   "execution_count": 7,
   "metadata": {},
   "outputs": [
    {
     "data": {
      "application/vnd.jupyter.widget-view+json": {
       "model_id": "cce028a408f241e5bbb790e7e4f8716e",
       "version_major": 2,
       "version_minor": 0
      },
      "text/plain": [
       "Map:   0%|          | 0/11155 [00:00<?, ? examples/s]"
      ]
     },
     "metadata": {},
     "output_type": "display_data"
    },
    {
     "data": {
      "text/html": [],
      "text/plain": [
       "<IPython.core.display.HTML object>"
      ]
     },
     "metadata": {},
     "output_type": "display_data"
    },
    {
     "data": {
      "application/vnd.jupyter.widget-view+json": {
       "model_id": "61cb5f91c03d4bc2a96e070592a5673c",
       "version_major": 2,
       "version_minor": 0
      },
      "text/plain": [
       "Map:   0%|          | 0/11155 [00:00<?, ? examples/s]"
      ]
     },
     "metadata": {},
     "output_type": "display_data"
    },
    {
     "data": {
      "text/html": [],
      "text/plain": [
       "<IPython.core.display.HTML object>"
      ]
     },
     "metadata": {},
     "output_type": "display_data"
    },
    {
     "data": {
      "application/vnd.jupyter.widget-view+json": {
       "model_id": "a55e33f8c2bd4fd49e4befe35ae1d508",
       "version_major": 2,
       "version_minor": 0
      },
      "text/plain": [
       "Map:   0%|          | 0/11155 [00:00<?, ? examples/s]"
      ]
     },
     "metadata": {},
     "output_type": "display_data"
    },
    {
     "data": {
      "text/html": [],
      "text/plain": [
       "<IPython.core.display.HTML object>"
      ]
     },
     "metadata": {},
     "output_type": "display_data"
    },
    {
     "data": {
      "application/vnd.jupyter.widget-view+json": {
       "model_id": "903a04e8181948e9a5dd69df01b10e4c",
       "version_major": 2,
       "version_minor": 0
      },
      "text/plain": [
       "Map:   0%|          | 0/11155 [00:00<?, ? examples/s]"
      ]
     },
     "metadata": {},
     "output_type": "display_data"
    },
    {
     "data": {
      "text/html": [],
      "text/plain": [
       "<IPython.core.display.HTML object>"
      ]
     },
     "metadata": {},
     "output_type": "display_data"
    },
    {
     "data": {
      "application/vnd.jupyter.widget-view+json": {
       "model_id": "6adbb0ee4e4b49b383504c1cfb502b2a",
       "version_major": 2,
       "version_minor": 0
      },
      "text/plain": [
       "Map:   0%|          | 0/11155 [00:00<?, ? examples/s]"
      ]
     },
     "metadata": {},
     "output_type": "display_data"
    },
    {
     "data": {
      "text/html": [],
      "text/plain": [
       "<IPython.core.display.HTML object>"
      ]
     },
     "metadata": {},
     "output_type": "display_data"
    },
    {
     "data": {
      "text/html": [
       "<div>\n",
       "<style scoped>\n",
       "    .dataframe tbody tr th:only-of-type {\n",
       "        vertical-align: middle;\n",
       "    }\n",
       "\n",
       "    .dataframe tbody tr th {\n",
       "        vertical-align: top;\n",
       "    }\n",
       "\n",
       "    .dataframe thead th {\n",
       "        text-align: right;\n",
       "    }\n",
       "</style>\n",
       "<table border=\"1\" class=\"dataframe\">\n",
       "  <thead>\n",
       "    <tr style=\"text-align: right;\">\n",
       "      <th></th>\n",
       "      <th>target</th>\n",
       "    </tr>\n",
       "  </thead>\n",
       "  <tbody>\n",
       "    <tr>\n",
       "      <th>0</th>\n",
       "      <td>0.999342</td>\n",
       "    </tr>\n",
       "    <tr>\n",
       "      <th>1</th>\n",
       "      <td>0.265522</td>\n",
       "    </tr>\n",
       "    <tr>\n",
       "      <th>2</th>\n",
       "      <td>0.999135</td>\n",
       "    </tr>\n",
       "    <tr>\n",
       "      <th>3</th>\n",
       "      <td>0.112425</td>\n",
       "    </tr>\n",
       "    <tr>\n",
       "      <th>4</th>\n",
       "      <td>0.997908</td>\n",
       "    </tr>\n",
       "  </tbody>\n",
       "</table>\n",
       "</div>"
      ],
      "text/plain": [
       "     target\n",
       "0  0.999342\n",
       "1  0.265522\n",
       "2  0.999135\n",
       "3  0.112425\n",
       "4  0.997908"
      ]
     },
     "execution_count": 7,
     "metadata": {},
     "output_type": "execute_result"
    }
   ],
   "source": [
    "def tokenize(sample):\n",
    "    return tokenizer(sample['prompt'], max_length=cfg.bert.params.max_length, truncation=True)\n",
    "\n",
    "preds = []\n",
    "for i in range(5):\n",
    "    results_dir = f\"{cfg.data.results_dir}/fold{i}/final\"\n",
    "    tokenizer = AutoTokenizer.from_pretrained(results_dir)\n",
    "    model = AutoModelForSequenceClassification.from_pretrained(results_dir)\n",
    "\n",
    "    ds_test = Dataset.from_pandas(test_df[['prompt']].copy())\n",
    "    ds_test = ds_test.map(tokenize).remove_columns(['prompt'])\n",
    "\n",
    "    test_args = TrainingArguments(\n",
    "        output_dir=cfg.data.results_dir,\n",
    "        per_device_eval_batch_size=cfg.bert.params.per_device_eval_batch_size,\n",
    "        do_predict=True,\n",
    "        dataloader_drop_last=False,\n",
    "    )\n",
    "    trainer = Trainer(\n",
    "        model=model,\n",
    "        args=test_args,\n",
    "        data_collator=DataCollatorWithPadding(tokenizer),\n",
    "        tokenizer=tokenizer,\n",
    "    )\n",
    "    predictions = torch.softmax(torch.tensor(trainer.predict(ds_test).predictions), dim=1).numpy()\n",
    "    preds.append(predictions[:, 1])\n",
    "\n",
    "pred = np.mean(preds, axis=0)\n",
    "\n",
    "# 提出用ファイル作成\n",
    "sub_df = pd.read_csv(cfg.data.sample_submission_path)\n",
    "sub_df[\"target\"] = pred\n",
    "sub_df.to_csv(f\"{cfg.data.results_dir}/{cfg.run_name}_submission.csv\", index=False)\n",
    "sub_df.head()\n"
   ]
  },
  {
   "cell_type": "code",
   "execution_count": null,
   "metadata": {},
   "outputs": [],
   "source": []
  }
 ],
 "metadata": {
  "kernelspec": {
   "display_name": ".venv",
   "language": "python",
   "name": "python3"
  },
  "language_info": {
   "codemirror_mode": {
    "name": "ipython",
    "version": 3
   },
   "file_extension": ".py",
   "mimetype": "text/x-python",
   "name": "python",
   "nbconvert_exporter": "python",
   "pygments_lexer": "ipython3",
   "version": "3.12.2"
  }
 },
 "nbformat": 4,
 "nbformat_minor": 2
}
